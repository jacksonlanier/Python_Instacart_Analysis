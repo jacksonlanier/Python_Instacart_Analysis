{
 "cells": [
  {
   "cell_type": "markdown",
   "id": "8cf12e71-001c-4171-8694-4fa2dc0d9fe0",
   "metadata": {},
   "source": [
    "# Script Contents\n",
    "### -Import Libraries\n",
    "\n",
    "### -Working With Data Types\n"
   ]
  },
  {
   "cell_type": "markdown",
   "id": "9689faa0-9d71-4b35-bf08-bfae3e105831",
   "metadata": {
    "jp-MarkdownHeadingCollapsed": true
   },
   "source": [
    "# 01. Importing Libraries"
   ]
  },
  {
   "cell_type": "code",
   "execution_count": 1,
   "id": "01b6e124-ed10-4598-9878-48efe466bd6b",
   "metadata": {},
   "outputs": [],
   "source": [
    "# Import libraries\n",
    "import pandas as pd\n",
    "import numpy as np\n",
    "import os"
   ]
  },
  {
   "cell_type": "markdown",
   "id": "8ebbf31b-03a8-40c3-a977-4bf1a515a4df",
   "metadata": {},
   "source": [
    "# 02. Working with Data Types"
   ]
  },
  {
   "cell_type": "code",
   "execution_count": 65,
   "id": "e0c17284-4f52-4dfa-8c04-d17dd38aebce",
   "metadata": {},
   "outputs": [],
   "source": [
    "#code 3 different ways of reaching a result of 100 by adding or subtracting numeric variables.\n",
    "x=50\n",
    "y=50"
   ]
  },
  {
   "cell_type": "code",
   "execution_count": 57,
   "id": "53e94b34-2aaf-44d7-acc8-42b5d03272f0",
   "metadata": {},
   "outputs": [
    {
     "data": {
      "text/plain": [
       "100"
      ]
     },
     "execution_count": 57,
     "metadata": {},
     "output_type": "execute_result"
    }
   ],
   "source": [
    "x+y"
   ]
  },
  {
   "cell_type": "code",
   "execution_count": 61,
   "id": "e2b495c3-82d7-4bb5-833e-6bc67abeb95d",
   "metadata": {},
   "outputs": [],
   "source": [
    "x=200\n",
    "y=100"
   ]
  },
  {
   "cell_type": "code",
   "execution_count": 63,
   "id": "77836503-d229-42e6-8d0f-72c1b8db1afa",
   "metadata": {},
   "outputs": [
    {
     "data": {
      "text/plain": [
       "100"
      ]
     },
     "execution_count": 63,
     "metadata": {},
     "output_type": "execute_result"
    }
   ],
   "source": [
    "x-y"
   ]
  },
  {
   "cell_type": "code",
   "execution_count": 67,
   "id": "35d66810-3532-4487-a7fd-39f7d799ec24",
   "metadata": {},
   "outputs": [],
   "source": [
    "x=400\n",
    "y=200\n",
    "a=100"
   ]
  },
  {
   "cell_type": "code",
   "execution_count": 69,
   "id": "f230ca8f-4501-4198-817e-f651e2879829",
   "metadata": {},
   "outputs": [
    {
     "data": {
      "text/plain": [
       "100"
      ]
     },
     "execution_count": 69,
     "metadata": {},
     "output_type": "execute_result"
    }
   ],
   "source": [
    "x-y-a"
   ]
  },
  {
   "cell_type": "code",
   "execution_count": 71,
   "id": "9074cb97-76be-4f48-9bf4-671b66a488d4",
   "metadata": {},
   "outputs": [
    {
     "data": {
      "text/plain": [
       "2.3913043478260874"
      ]
     },
     "execution_count": 71,
     "metadata": {},
     "output_type": "execute_result"
    }
   ],
   "source": [
    "#Code 2 floating-point variables and divide them by each other.\n",
    "x=5.5\n",
    "y=2.3\n",
    "x/y"
   ]
  },
  {
   "cell_type": "code",
   "execution_count": 81,
   "id": "e4ef758b-4c1e-4c84-aeea-8cbb5cd73fb9",
   "metadata": {},
   "outputs": [
    {
     "data": {
      "text/plain": [
       "'computer'"
      ]
     },
     "execution_count": 81,
     "metadata": {},
     "output_type": "execute_result"
    }
   ],
   "source": [
    "#Construct a short word made of separate strings.\n",
    "x='comp'\n",
    "y='uter'\n",
    "x+y"
   ]
  },
  {
   "cell_type": "code",
   "execution_count": 85,
   "id": "1c101ef8-f076-4a5c-8e54-b43ba579e69d",
   "metadata": {},
   "outputs": [
    {
     "data": {
      "text/plain": [
       "'Good morning. How are you today?'"
      ]
     },
     "execution_count": 85,
     "metadata": {},
     "output_type": "execute_result"
    }
   ],
   "source": [
    "#Construct 2 short sentences made of separate strings.\n",
    "z='Good morning. '\n",
    "a='How are you today?'\n",
    "z+a"
   ]
  },
  {
   "cell_type": "code",
   "execution_count": 87,
   "id": "305fb1d8-8a81-4e05-a655-f5297264cc44",
   "metadata": {},
   "outputs": [
    {
     "data": {
      "text/plain": [
       "'hahahahahahahahahahahahahahahahahahahahahahahahahahahahahahahahahahahahahahahahahahahahahahahahahahahahahahahahahahahahahahahahahahahahahahahahahahahahahahahahahahahahahahahahahahahahahahahahahahahaha'"
      ]
     },
     "execution_count": 87,
     "metadata": {},
     "output_type": "execute_result"
    }
   ],
   "source": [
    "#Include a command that makes a string appear 100 times.\n",
    "j='ha'\n",
    "j*100"
   ]
  }
 ],
 "metadata": {
  "kernelspec": {
   "display_name": "Python 3 (ipykernel)",
   "language": "python",
   "name": "python3"
  },
  "language_info": {
   "codemirror_mode": {
    "name": "ipython",
    "version": 3
   },
   "file_extension": ".py",
   "mimetype": "text/x-python",
   "name": "python",
   "nbconvert_exporter": "python",
   "pygments_lexer": "ipython3",
   "version": "3.12.4"
  }
 },
 "nbformat": 4,
 "nbformat_minor": 5
}
